{
  "cells": [
    {
      "cell_type": "markdown",
      "id": "1f466238-ed44-4c6a-ae78-0f01525abe97",
      "metadata": {
        "id": "1f466238-ed44-4c6a-ae78-0f01525abe97"
      },
      "source": [
        "# Develop the disclosure display\n",
        "\n"
      ]
    },
    {
      "cell_type": "code",
      "execution_count": 3,
      "id": "0c9b325c-96f6-431b-aef2-f3cc895882ef",
      "metadata": {
        "id": "0c9b325c-96f6-431b-aef2-f3cc895882ef"
      },
      "outputs": [],
      "source": [
        "# This cell downloads some support code that is used to pull together the data set.  \n",
        "!git clone https://github.com/gwallison/colab-support.git &>/dev/null;\n",
        "\n",
        "# Geopandas is an open source library for working with geographic data using the\n",
        "#   data structures library \"pandas\" (common in Python for data processing).\n",
        "#   (https://geopandas.org/)\n",
        "!pip install geopandas  &>/dev/null;\n",
        "\n",
        "# Topojson is an open source library that lets us keep file sizes small when\n",
        "#   working with geographic data, so the Notebooks can run faster while still\n",
        "#   working with detailed shapes. (https://github.com/mattijn/topojson)\n",
        "!pip install topojson &>/dev/null;\n",
        "\n",
        "# Install rtree to enable geopandas to clip data spatially\n",
        "!pip install rtree &>/dev/null;\n",
        "\n",
        "import warnings\n",
        "warnings.filterwarnings('ignore')\n",
        "\n",
        "# now run the code that defines the routine\n",
        "%run colab-support/get_dataframe.py\n",
        "# %run colab-support/geo_tools.py\n",
        "# %run colab-support/summarize_data.py"
      ]
    },
    {
      "cell_type": "code",
      "execution_count": 4,
      "id": "3153934e-ae2d-4c93-8d46-7d66f99fa951",
      "metadata": {
        "id": "3153934e-ae2d-4c93-8d46-7d66f99fa951",
        "outputId": "706b7635-35b1-471f-97d9-fdd0a8b9dbd2",
        "colab": {
          "base_uri": "https://localhost:8080/",
          "height": 156
        }
      },
      "outputs": [
        {
          "output_type": "stream",
          "name": "stdout",
          "text": [
            " Files in downloaded zip archive: ['bgCAS.csv', 'chemrecs.csv', 'disclosures.csv', 'repo_info.txt']\n",
            " reading data from repository: b'v15_beta_2022_11_02_min'\n",
            " -- processing disclosures\n",
            " -- processing chemical records\n",
            " -- processing chemical metadata\n",
            " -- removing duplicates\n",
            "Dataframe size: (5506339, 54)\n"
          ]
        },
        {
          "output_type": "execute_result",
          "data": {
            "text/plain": [
              "'926073e6-eab4-499a-a164-627301b9165c'"
            ],
            "application/vnd.google.colaboratory.intrinsic+json": {
              "type": "string"
            }
          },
          "metadata": {},
          "execution_count": 4
        }
      ],
      "source": [
        "# get_dataset pulls together a set of CSV files from a google storage site, then merges them\n",
        "#  result: df is a dataframe with all records (though not ALL fields)\n",
        "df = get_dataset()\n",
        "upk = df.iloc[10000].UploadKey\n",
        "upk"
      ]
    },
    {
      "cell_type": "code",
      "source": [
        "# should be a single UploadKey\n",
        "from IPython.display import HTML, display\n",
        "from IPython.display import Markdown as md\n",
        "\n",
        "def c_it(val, commas=False):\n",
        "    if commas:\n",
        "        return f'<span style=\"color:red\"><b>{val:,}</b></span>'\n",
        "    return f'<span style=\"color:red\"><b>{val}</b></span>'\n",
        "\n",
        "def meta_table(df):\n",
        "    # display(md(f'---\\n## {df.JobEndDate.iloc[0].split()[0]}\\n## source: \"{df.data_source.iloc[0]}\", UploadKey: {df.UploadKey.iloc[0]}\\n data source -- UploadKey'))\n",
        "    s = \"| |FracFocus original | |Open-FF variables|\\n\"\n",
        "    s += \"| --- |--- | --- | --- |\\n\"\n",
        "    s += f'|**APINumber** |{df.APINumber.iloc[0]} | **api10**|{df.api10.iloc[0]} |\\n'\n",
        "    # s += f'|**JobStartDate** |{df.JobStartDate.iloc[0]} | | |\\n'\n",
        "    # s += f'|**JobEndDate** |{df.JobEndDate.iloc[0]} |**date** |{df.JobEndDate.iloc[0]}| \\n'\n",
        "    s += f'|**StateName** |{df.StateName.iloc[0]} |**bgStateName** |{df.bgStateName.iloc[0]}| \\n'\n",
        "    s += f'|**CountyName** |{df.CountyName.iloc[0]} |**bgCountyName** |{df.bgCountyName.iloc[0]}| \\n'\n",
        "    s += f'|**Latitude** |{df.Latitude.iloc[0]} |**bgLatitude** |{df.bgLatitude.iloc[0]}| \\n'\n",
        "    s += f'|**Longitude** |{df.Longitude.iloc[0]} |**bgLongitude** |{df.bgLongitude.iloc[0]}| \\n'\n",
        "    s += f'| ||**bgLocationSource** |{df.bgLocationSource.iloc[0]}| \\n'    \n",
        "    s += f'|> *loc_within_county*|{df.loc_within_county.iloc[0]} |> *loc_within_state*|{df.loc_within_state.iloc[0]}|\\n'\n",
        "    s += f'|> *loc_name_mismatch*|{df.loc_name_mismatch.iloc[0]} |> *latlon_too_coarse*|{df.latlon_too_coarse.iloc[0]}|\\n'\n",
        "    s += f'|**Projection** |{df.Projection.iloc[0]} |bgLat/Lon always:|WGS84| \\n'\n",
        "    s += f'|**WellName** |{df.WellName.iloc[0]}| || \\n'\n",
        "    s += f'|**FederalWell** |{df.FederalWell.iloc[0]} |**bgFederalWell** |{df.bgFederalWell.iloc[0]}| \\n'\n",
        "    s += f'|**IndianWell** |{df.IndianWell.iloc[0]} |**bgNativeAmericanLand** |{df.bgNativeAmericanLand.iloc[0]}| \\n'\n",
        "    s += f'|**OperatorName** |{df.OperatorName.iloc[0]} |**bgOperatorName** |{df.bgOperatorName.iloc[0]}| \\n'\n",
        "    s += f'|**TotalBaseWaterVolume** (gallons) |{c_it(int(df.TotalBaseWaterVolume.iloc[0]),True)} | || \\n'\n",
        "    s += f'|**TotalBaseNonWaterVolume** (gallons) |{int(df.TotalBaseNonWaterVolume.iloc[0]):,} | || \\n'\n",
        "    s += f'|**TVD** (feet) |{int(df.TVD.iloc[0]):,} | || \\n'\n",
        "\n",
        "    display(md(s))\n",
        "\n"
      ],
      "metadata": {
        "id": "kqM8SiMDp77y"
      },
      "id": "kqM8SiMDp77y",
      "execution_count": 14,
      "outputs": []
    },
    {
      "cell_type": "code",
      "source": [
        "# df.columns\n",
        "meta_table(df[df.UploadKey==upk])"
      ],
      "metadata": {
        "id": "BRIJ7gxfqR4R",
        "outputId": "9506046c-12ba-4715-fae0-a58700904a4f",
        "colab": {
          "base_uri": "https://localhost:8080/",
          "height": 329
        }
      },
      "id": "BRIJ7gxfqR4R",
      "execution_count": 16,
      "outputs": [
        {
          "output_type": "error",
          "ename": "AttributeError",
          "evalue": "ignored",
          "traceback": [
            "\u001b[0;31m---------------------------------------------------------------------------\u001b[0m",
            "\u001b[0;31mAttributeError\u001b[0m                            Traceback (most recent call last)",
            "\u001b[0;32m<ipython-input-16-cd5b74307a7f>\u001b[0m in \u001b[0;36m<module>\u001b[0;34m\u001b[0m\n\u001b[1;32m      1\u001b[0m \u001b[0;31m# df.columns\u001b[0m\u001b[0;34m\u001b[0m\u001b[0;34m\u001b[0m\u001b[0;34m\u001b[0m\u001b[0m\n\u001b[0;32m----> 2\u001b[0;31m \u001b[0mmeta_table\u001b[0m\u001b[0;34m(\u001b[0m\u001b[0mdf\u001b[0m\u001b[0;34m[\u001b[0m\u001b[0mdf\u001b[0m\u001b[0;34m.\u001b[0m\u001b[0mUploadKey\u001b[0m\u001b[0;34m==\u001b[0m\u001b[0mupk\u001b[0m\u001b[0;34m]\u001b[0m\u001b[0;34m)\u001b[0m\u001b[0;34m\u001b[0m\u001b[0;34m\u001b[0m\u001b[0m\n\u001b[0m",
            "\u001b[0;32m<ipython-input-14-02fd74aab686>\u001b[0m in \u001b[0;36mmeta_table\u001b[0;34m(df)\u001b[0m\n\u001b[1;32m     21\u001b[0m     \u001b[0ms\u001b[0m \u001b[0;34m+=\u001b[0m \u001b[0;34mf'| ||**bgLocationSource** |{df.bgLocationSource.iloc[0]}| \\n'\u001b[0m\u001b[0;34m\u001b[0m\u001b[0;34m\u001b[0m\u001b[0m\n\u001b[1;32m     22\u001b[0m     \u001b[0ms\u001b[0m \u001b[0;34m+=\u001b[0m \u001b[0;34mf'|> *loc_within_county*|{df.loc_within_county.iloc[0]} |> *loc_within_state*|{df.loc_within_state.iloc[0]}|\\n'\u001b[0m\u001b[0;34m\u001b[0m\u001b[0;34m\u001b[0m\u001b[0m\n\u001b[0;32m---> 23\u001b[0;31m     \u001b[0ms\u001b[0m \u001b[0;34m+=\u001b[0m \u001b[0;34mf'|> *loc_name_mismatch*|{df.loc_name_mismatch.iloc[0]} |> *latlon_too_coarse*|{df.latlon_too_coarse.iloc[0]}|\\n'\u001b[0m\u001b[0;34m\u001b[0m\u001b[0;34m\u001b[0m\u001b[0m\n\u001b[0m\u001b[1;32m     24\u001b[0m     \u001b[0ms\u001b[0m \u001b[0;34m+=\u001b[0m \u001b[0;34mf'|**Projection** |{df.Projection.iloc[0]} |bgLat/Lon always:|WGS84| \\n'\u001b[0m\u001b[0;34m\u001b[0m\u001b[0;34m\u001b[0m\u001b[0m\n\u001b[1;32m     25\u001b[0m     \u001b[0ms\u001b[0m \u001b[0;34m+=\u001b[0m \u001b[0;34mf'|**WellName** |{df.WellName.iloc[0]}| || \\n'\u001b[0m\u001b[0;34m\u001b[0m\u001b[0;34m\u001b[0m\u001b[0m\n",
            "\u001b[0;32m/usr/local/lib/python3.7/dist-packages/pandas/core/generic.py\u001b[0m in \u001b[0;36m__getattr__\u001b[0;34m(self, name)\u001b[0m\n\u001b[1;32m   5485\u001b[0m         ):\n\u001b[1;32m   5486\u001b[0m             \u001b[0;32mreturn\u001b[0m \u001b[0mself\u001b[0m\u001b[0;34m[\u001b[0m\u001b[0mname\u001b[0m\u001b[0;34m]\u001b[0m\u001b[0;34m\u001b[0m\u001b[0;34m\u001b[0m\u001b[0m\n\u001b[0;32m-> 5487\u001b[0;31m         \u001b[0;32mreturn\u001b[0m \u001b[0mobject\u001b[0m\u001b[0;34m.\u001b[0m\u001b[0m__getattribute__\u001b[0m\u001b[0;34m(\u001b[0m\u001b[0mself\u001b[0m\u001b[0;34m,\u001b[0m \u001b[0mname\u001b[0m\u001b[0;34m)\u001b[0m\u001b[0;34m\u001b[0m\u001b[0;34m\u001b[0m\u001b[0m\n\u001b[0m\u001b[1;32m   5488\u001b[0m \u001b[0;34m\u001b[0m\u001b[0m\n\u001b[1;32m   5489\u001b[0m     \u001b[0;32mdef\u001b[0m \u001b[0m__setattr__\u001b[0m\u001b[0;34m(\u001b[0m\u001b[0mself\u001b[0m\u001b[0;34m,\u001b[0m \u001b[0mname\u001b[0m\u001b[0;34m:\u001b[0m \u001b[0mstr\u001b[0m\u001b[0;34m,\u001b[0m \u001b[0mvalue\u001b[0m\u001b[0;34m)\u001b[0m \u001b[0;34m->\u001b[0m \u001b[0;32mNone\u001b[0m\u001b[0;34m:\u001b[0m\u001b[0;34m\u001b[0m\u001b[0;34m\u001b[0m\u001b[0m\n",
            "\u001b[0;31mAttributeError\u001b[0m: 'DataFrame' object has no attribute 'latlon_too_coarse'"
          ]
        }
      ]
    }
  ],
  "metadata": {
    "kernelspec": {
      "display_name": "Python 3 (ipykernel)",
      "language": "python",
      "name": "python3"
    },
    "language_info": {
      "codemirror_mode": {
        "name": "ipython",
        "version": 3
      },
      "file_extension": ".py",
      "mimetype": "text/x-python",
      "name": "python",
      "nbconvert_exporter": "python",
      "pygments_lexer": "ipython3",
      "version": "3.9.7"
    },
    "colab": {
      "provenance": []
    }
  },
  "nbformat": 4,
  "nbformat_minor": 5
}