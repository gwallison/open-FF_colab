{
  "cells": [
    {
      "cell_type": "markdown",
      "id": "1f466238-ed44-4c6a-ae78-0f01525abe97",
      "metadata": {
        "id": "1f466238-ed44-4c6a-ae78-0f01525abe97"
      },
      "source": [
        "# Develop the disclosure display\n",
        "\n"
      ]
    },
    {
      "cell_type": "code",
      "execution_count": null,
      "id": "0c9b325c-96f6-431b-aef2-f3cc895882ef",
      "metadata": {
        "id": "0c9b325c-96f6-431b-aef2-f3cc895882ef"
      },
      "outputs": [],
      "source": [
        "# This cell downloads some support code that is used to pull together the data set.  \n",
        "!git clone https://github.com/gwallison/colab-support.git &>/dev/null;\n",
        "\n",
        "# Geopandas is an open source library for working with geographic data using the\n",
        "#   data structures library \"pandas\" (common in Python for data processing).\n",
        "#   (https://geopandas.org/)\n",
        "!pip install geopandas  &>/dev/null;\n",
        "\n",
        "# Topojson is an open source library that lets us keep file sizes small when\n",
        "#   working with geographic data, so the Notebooks can run faster while still\n",
        "#   working with detailed shapes. (https://github.com/mattijn/topojson)\n",
        "!pip install topojson &>/dev/null;\n",
        "\n",
        "# Install rtree to enable geopandas to clip data spatially\n",
        "!pip install rtree &>/dev/null;\n",
        "\n",
        "import warnings\n",
        "warnings.filterwarnings('ignore')\n",
        "\n",
        "# now run the code that defines the routine\n",
        "%run colab-support/get_dataframe.py\n",
        "# %run colab-support/geo_tools.py\n",
        "# %run colab-support/summarize_data.py"
      ]
    },
    {
      "cell_type": "code",
      "execution_count": null,
      "id": "3153934e-ae2d-4c93-8d46-7d66f99fa951",
      "metadata": {
        "id": "3153934e-ae2d-4c93-8d46-7d66f99fa951"
      },
      "outputs": [],
      "source": [
        "# get_dataset pulls together a set of CSV files from a google storage site, then merges them\n",
        "#  result: df is a dataframe with all records (though not ALL fields)\n",
        "df = get_dataset()\n",
        "upk = df.iloc[100000].UploadKey\n",
        "upk"
      ]
    },
    {
      "cell_type": "code",
      "source": [
        "# should be a single UploadKey\n",
        "from IPython.display import HTML, display\n",
        "from IPython.display import Markdown as md\n",
        "import numpy as np\n",
        "upk = df.iloc[200000].UploadKey\n",
        "def c_it(val, commas=False):\n",
        "    if val==np.NaN:\n",
        "      return f'<span style=\"color:red\"><b>NaN</b></span>'\n",
        "    if commas:\n",
        "        return f'<span style=\"color:red\"><b>{val:,}</b></span>'\n",
        "    return f'<span style=\"color:red\"><b>{val}</b></span>'\n",
        "\n",
        "def meta_table(df):\n",
        "    print(df.TotalBaseWaterVolume.unique())\n",
        "    # display(md(f'---\\n## {df.JobEndDate.iloc[0].split()[0]}\\n## source: \"{df.data_source.iloc[0]}\", UploadKey: {df.UploadKey.iloc[0]}\\n data source -- UploadKey'))\n",
        "    s = \"| |FracFocus original | |Open-FF variables|\\n\"\n",
        "    s += \"| --- |--- | --- | --- |\\n\"\n",
        "    s += f'|**APINumber** |{df.APINumber.iloc[0]} | **api10**|{df.api10.iloc[0]} |\\n'\n",
        "    # s += f'|**JobStartDate** |{df.JobStartDate.iloc[0]} | | |\\n'\n",
        "    # s += f'|**JobEndDate** |{df.JobEndDate.iloc[0]} |**date** |{df.JobEndDate.iloc[0]}| \\n'\n",
        "    s += f'|**StateName** |{df.StateName.iloc[0]} |**bgStateName** |{df.bgStateName.iloc[0]}| \\n'\n",
        "    s += f'|**CountyName** |{df.CountyName.iloc[0]} |**bgCountyName** |{df.bgCountyName.iloc[0]}| \\n'\n",
        "    s += f'|**Latitude** |{df.Latitude.iloc[0]} |**bgLatitude** |{df.bgLatitude.iloc[0]}| \\n'\n",
        "    s += f'|**Longitude** |{df.Longitude.iloc[0]} |**bgLongitude** |{df.bgLongitude.iloc[0]}| \\n'\n",
        "    s += f'| ||**bgLocationSource** |{df.bgLocationSource.iloc[0]}| \\n'    \n",
        "    # s += f'|> *loc_within_county*|{df.loc_within_county.iloc[0]} |> *loc_within_state*|{df.loc_within_state.iloc[0]}|\\n'\n",
        "    # s += f'|> *loc_name_mismatch*|{df.loc_name_mismatch.iloc[0]} |> *latlon_too_coarse*|{df.latlon_too_coarse.iloc[0]}|\\n'\n",
        "    s += f'|**Projection** |{df.Projection.iloc[0]} |bgLat/Lon always:|WGS84| \\n'\n",
        "    s += f'|**WellName** |{df.WellName.iloc[0]}| || \\n'\n",
        "    # s += f'|**FederalWell** |{df.FederalWell.iloc[0]} |**bgFederalWell** |{df.bgFederalWell.iloc[0]}| \\n'\n",
        "    # s += f'|**IndianWell** |{df.IndianWell.iloc[0]} |**bgNativeAmericanLand** |{df.bgNativeAmericanLand.iloc[0]}| \\n'\n",
        "    s += f'|**OperatorName** |{df.OperatorName.iloc[0]} |**bgOperatorName** |{df.bgOperatorName.iloc[0]}| \\n'\n",
        "    s += f'|**TotalBaseWaterVolume** (gallons) |{c_it(int(df.TotalBaseWaterVolume.iloc[0]),True)} | || \\n'\n",
        "    s += f'|**TotalBaseNonWaterVolume** (gallons) |{df.TotalBaseNonWaterVolume.iloc[0]:,} | || \\n'\n",
        "    s += f'|**TVD** (feet) |{int(df.TVD.iloc[0]):,} | || \\n'\n",
        "\n",
        "    display(md(s))\n",
        "\n"
      ],
      "metadata": {
        "id": "kqM8SiMDp77y"
      },
      "id": "kqM8SiMDp77y",
      "execution_count": null,
      "outputs": []
    },
    {
      "cell_type": "code",
      "source": [
        "# df.columns\n",
        "upk = df.iloc[500000].UploadKey\n",
        "\n",
        "meta_table(df[df.UploadKey==upk])"
      ],
      "metadata": {
        "id": "BRIJ7gxfqR4R"
      },
      "id": "BRIJ7gxfqR4R",
      "execution_count": null,
      "outputs": []
    },
    {
      "cell_type": "code",
      "source": [],
      "metadata": {
        "id": "24czg8mq3G1i"
      },
      "id": "24czg8mq3G1i",
      "execution_count": null,
      "outputs": []
    }
  ],
  "metadata": {
    "kernelspec": {
      "display_name": "Python 3 (ipykernel)",
      "language": "python",
      "name": "python3"
    },
    "language_info": {
      "codemirror_mode": {
        "name": "ipython",
        "version": 3
      },
      "file_extension": ".py",
      "mimetype": "text/x-python",
      "name": "python",
      "nbconvert_exporter": "python",
      "pygments_lexer": "ipython3",
      "version": "3.9.7"
    },
    "colab": {
      "provenance": []
    }
  },
  "nbformat": 4,
  "nbformat_minor": 5
}