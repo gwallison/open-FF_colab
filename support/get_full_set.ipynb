{
 "cells": [
  {
   "cell_type": "markdown",
   "id": "dfc5c0d3-e513-4e86-b908-6049389e76f9",
   "metadata": {},
   "source": [
    "# Fetch a full Open-FF data set from pickles"
   ]
  },
  {
   "cell_type": "code",
   "execution_count": null,
   "id": "bc5fc4eb-af6c-4e34-8427-f610c8842e76",
   "metadata": {},
   "outputs": [],
   "source": [
    "import pandas as pd\n",
    "import zipfile\n",
    "import requests\n",
    "from io import BytesIO\n",
    "\n",
    "c = requests.get('https://storage.googleapis.com/gwa-test/sm_dataframe.zip').content"
   ]
  },
  {
   "cell_type": "code",
   "execution_count": null,
   "id": "9e027694-dcef-4763-912c-0f55b63c9038",
   "metadata": {},
   "outputs": [],
   "source": [
    "filebytes = BytesIO(c)\n",
    "zfile = zipfile.ZipFile(filebytes)\n",
    "zfile.namelist()"
   ]
  },
  {
   "cell_type": "code",
   "execution_count": null,
   "id": "aa0852a5-0958-45dc-a6fe-443d8db14710",
   "metadata": {},
   "outputs": [],
   "source": [
    "# now unzip and create the associated dataframes\n",
    "with zfile.open('repo_info.txt') as f:\n",
    "    txt = f.read()\n",
    "print(f' reading data from repository: {txt}')\n",
    "\n",
    "with zfile.open('disclosures.csv') as f:\n",
    "    print(f' -- processing disclosures')\n",
    "    ddf = pd.read_csv(f,quotechar='$',encoding='utf-8',low_memory=False,\n",
    "                     dtype={'APINumber':'str'})\n",
    "    ddf.date = pd.to_datetime(ddf.date)\n",
    "with zfile.open('chemrecs.csv') as f:\n",
    "    print(f' -- processing chemical records')\n",
    "    cdf = pd.read_csv(f,quotechar='$',\n",
    "                      encoding='utf-8',low_memory=False)\n",
    "mg = pd.merge(cdf,ddf, on='UploadKey', how='left')\n",
    "with zfile.open('bgCAS.csv') as f:\n",
    "    print(f' -- processing chemical metadata')\n",
    "    casdf = pd.read_csv(f,quotechar='$',\n",
    "                      encoding='utf-8',low_memory=False)\n",
    "mg = pd.merge(mg,casdf, on='bgCAS', how='left')\n",
    "\n",
    "mg.info()\n",
    "\n"
   ]
  },
  {
   "cell_type": "code",
   "execution_count": null,
   "id": "7fd5fcee-b93b-437d-b321-cb485d6be1a3",
   "metadata": {},
   "outputs": [],
   "source": []
  }
 ],
 "metadata": {
  "kernelspec": {
   "display_name": "Python 3 (ipykernel)",
   "language": "python",
   "name": "python3"
  },
  "language_info": {
   "codemirror_mode": {
    "name": "ipython",
    "version": 3
   },
   "file_extension": ".py",
   "mimetype": "text/x-python",
   "name": "python",
   "nbconvert_exporter": "python",
   "pygments_lexer": "ipython3",
   "version": "3.9.7"
  }
 },
 "nbformat": 4,
 "nbformat_minor": 5
}
