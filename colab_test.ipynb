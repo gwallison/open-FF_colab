{
 "cells": [
  {
   "cell_type": "markdown",
   "id": "c685b595-f8eb-47a6-83f9-5abcd8166642",
   "metadata": {},
   "source": [
    "![imagetest](https://github.com/gwallison/open-FF_colab/blob/master/images/odnr_horiz1.png?raw=true)"
   ]
  }
 ],
 "metadata": {
  "kernelspec": {
   "display_name": "Python 3 (ipykernel)",
   "language": "python",
   "name": "python3"
  },
  "language_info": {
   "codemirror_mode": {
    "name": "ipython",
    "version": 3
   },
   "file_extension": ".py",
   "mimetype": "text/x-python",
   "name": "python",
   "nbconvert_exporter": "python",
   "pygments_lexer": "ipython3",
   "version": "3.9.7"
  }
 },
 "nbformat": 4,
 "nbformat_minor": 5
}
