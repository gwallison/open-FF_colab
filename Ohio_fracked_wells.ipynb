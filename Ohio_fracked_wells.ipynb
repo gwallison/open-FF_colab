{
  "cells": [
    {
      "cell_type": "code",
      "execution_count": null,
      "metadata": {
        "id": "AOtFV1eeVQju"
      },
      "outputs": [],
      "source": [
        "import pandas as pd"
      ]
    },
    {
      "cell_type": "markdown",
      "metadata": {
        "id": "cAp_8NWVVlBx"
      },
      "source": [
        "# UNDER CONSTRUCTION\n",
        "(this is a test)\n",
        "\n",
        "## Task:\n",
        "# Fetching Horizontal well list from Ohio DNR\n",
        "## Issues:\n",
        "- creating simple CSV files from messy Excel files\n",
        "\n",
        "## Methods:\n",
        "1. fetch Excel files from ODNR\n",
        "1. manually edit and save to CSV files\n",
        "1. save to COLAB files\n",
        "1. import to pandas to test their validity\n",
        "\n",
        "---\n",
        "\n",
        "### Step 1 - get ODNR files\n",
        "We start from the [ODNR web page](https://ohiodnr.gov/business-and-industry/energy-resources/oil-and-gas-wells/horizontal-wells) that has the links.  There are two links (one each for Utica and Marcellus) that give full lists of wells for the two plays in Ohio.  These are excel files.  \n",
        "**Download each file to your computer**\n",
        "Make sure you get the \"combined\" files:\n",
        "\n",
        "<center><img src=\"https://github.com/gwallison/open-FF_colab/blob/master/images/odnr_horiz1.png?raw=true\" alt=\"Drawing\" style=\"width: 400px;\"/></center>\n"
      ]
    },
    {
      "cell_type": "markdown",
      "metadata": {
        "id": "vcOEySu9t91y"
      },
      "source": [
        "---\n",
        "\n",
        "### Step 2 - edit files\n",
        "Open each file in a spreadsheet program like OpenOffice or Excel.  Your task is to do just two things:\n",
        "- **remove all the rows above the column names.**  (As of this writing that is rows 1-8.  Row 9 is the column names.) Once you've done that, the columns should be in row 1.\n",
        "- **save the file in CSV format.**  (Python/Pandas can deal with excel files normally, but something is screwy with the ODNR files, so we go with a simpler format.)  For simplicity sake, let's name them: utica.csv and marcellus.csv.  When you save it, the program will warn you that you are only saving the current sheet - that's ok; that's all we want.\n",
        "\n",
        "---\n",
        "### Step 3: - save files to Colab\n",
        "On the Colab page, on the far left menu, click on the folder icon, then the upload icon, and transfer the two files you edited above.  They are now available to colab for work.\n",
        "\n",
        "Colab will remind you that these files will just be temporary in the colab session.\n",
        "\n",
        "---\n",
        "### Step 4: import to pandas\n",
        "Now you will execute the code in the next cell by just clicking the ▶ button.\n",
        "(If you didn't name your files the same as me, just change the \"fn\" lines to match your names.)"
      ]
    },
    {
      "cell_type": "code",
      "execution_count": null,
      "metadata": {
        "id": "lxQRurHsyEQl"
      },
      "outputs": [],
      "source": [
        "utica_fn = 'utica.csv'\n",
        "marcellus_fn = 'marcellus.csv'\n",
        "\n",
        "udf = pd.read_csv(utica_fn)#,dtype={'APINumber':'str'})"
      ]
    },
    {
      "cell_type": "code",
      "execution_count": null,
      "metadata": {
        "id": "-_3fFF35gORK"
      },
      "outputs": [],
      "source": []
    }
  ],
  "metadata": {
    "colab": {
      "name": "Ohio_fracked_wells.ipynb",
      "provenance": []
    },
    "kernelspec": {
      "display_name": "Python 3 (ipykernel)",
      "language": "python",
      "name": "python3"
    },
    "language_info": {
      "codemirror_mode": {
        "name": "ipython",
        "version": 3
      },
      "file_extension": ".py",
      "mimetype": "text/x-python",
      "name": "python",
      "nbconvert_exporter": "python",
      "pygments_lexer": "ipython3",
      "version": "3.9.7"
    }
  },
  "nbformat": 4,
  "nbformat_minor": 0
}