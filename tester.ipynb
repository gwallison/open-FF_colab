{
 "cells": [
  {
   "cell_type": "markdown",
   "id": "54eda163-9a62-4f06-bc09-0c56bc07582a",
   "metadata": {},
   "source": [
    "# Tester\n",
    "Used to try out different methods in colab.\n",
    "Not used for production work"
   ]
  },
  {
   "cell_type": "code",
   "execution_count": 1,
   "id": "25a0abfb-93b6-4c8d-93d7-20f0fa403c40",
   "metadata": {},
   "outputs": [
    {
     "name": "stderr",
     "output_type": "stream",
     "text": [
      "The syntax of the command is incorrect.\n"
     ]
    }
   ],
   "source": [
    "# We have a folder of chunks of reusable code that we're using across different\n",
    "#  Notebooks. This step goes and gets the relevant code from that folder so we\n",
    "#  can use it here. (https://github.com/edgi-govdata-archiving/ECHO_modules/)\n",
    "!git clone https://github.com/gwallison/colab-support.git -b reorganization &>/dev/null;"
   ]
  },
  {
   "cell_type": "code",
   "execution_count": 3,
   "id": "e4072c99-7eda-40f3-9656-34d6b5a1cc03",
   "metadata": {},
   "outputs": [
    {
     "name": "stderr",
     "output_type": "stream",
     "text": [
      "The syntax of the command is incorrect.\n",
      "The syntax of the command is incorrect.\n",
      "The syntax of the command is incorrect.\n"
     ]
    },
    {
     "name": "stdout",
     "output_type": "stream",
     "text": [
      "Done!\n"
     ]
    },
    {
     "name": "stderr",
     "output_type": "stream",
     "text": [
      "The syntax of the command is incorrect.\n"
     ]
    }
   ],
   "source": [
    "# # We have a folder of chunks of reusable code that we're using across different\n",
    "# #  Notebooks. This step goes and gets the relevant code from that folder so we\n",
    "# #  can use it here. (https://github.com/edgi-govdata-archiving/ECHO_modules/)\n",
    "# !git clone https://github.com/edgi-govdata-archiving/ECHO_modules.git -b reorganization &>/dev/null;\n",
    "\n",
    "# # Geopandas is an open source library for working with geographic data using the\n",
    "# #   data structures library \"pandas\" (common in Python for data processing).\n",
    "# #   (https://geopandas.org/)\n",
    "# !pip install geopandas  &>/dev/null;\n",
    "\n",
    "# # Topojson is an open source library that lets us keep file sizes small when\n",
    "# #   working with geographic data, so the Notebooks can run faster while still\n",
    "# #   working with detailed shapes. (https://github.com/mattijn/topojson)\n",
    "# !pip install topojson &>/dev/null;\n",
    "\n",
    "# # Install rtree to enable geopandas to clip data spatially\n",
    "# !pip install rtree &>/dev/null;\n",
    "\n",
    "# import warnings\n",
    "# warnings.filterwarnings('ignore')\n",
    "\n",
    "# # This code block will print a lot of data as it fetches and installs the libraries\n",
    "# #   Specified above. When it's done, the line below lets us know by printing \"Done!\"\n",
    "# print(\"Done!\")"
   ]
  }
 ],
 "metadata": {
  "kernelspec": {
   "display_name": "Python 3 (ipykernel)",
   "language": "python",
   "name": "python3"
  },
  "language_info": {
   "codemirror_mode": {
    "name": "ipython",
    "version": 3
   },
   "file_extension": ".py",
   "mimetype": "text/x-python",
   "name": "python",
   "nbconvert_exporter": "python",
   "pygments_lexer": "ipython3",
   "version": "3.9.7"
  }
 },
 "nbformat": 4,
 "nbformat_minor": 5
}
