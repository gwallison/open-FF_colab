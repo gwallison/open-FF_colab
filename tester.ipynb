{
 "cells": [
  {
   "cell_type": "markdown",
   "id": "54eda163-9a62-4f06-bc09-0c56bc07582a",
   "metadata": {},
   "source": [
    "# Tester\n",
    "Used to try out different methods in colab.\n",
    "Not used for production work"
   ]
  },
  {
   "cell_type": "code",
   "execution_count": 1,
   "id": "25a0abfb-93b6-4c8d-93d7-20f0fa403c40",
   "metadata": {},
   "outputs": [
    {
     "name": "stderr",
     "output_type": "stream",
     "text": [
      "The syntax of the command is incorrect.\n"
     ]
    }
   ],
   "source": [
    "!git clone https://github.com/gwallison/colab-support.git &>/dev/null;"
   ]
  },
  {
   "cell_type": "code",
   "execution_count": null,
   "id": "0246d0a6-b09f-405b-a1dc-f2601c6dce98",
   "metadata": {},
   "outputs": [],
   "source": [
    "%run colab-support/get_dataframe.py"
   ]
  },
  {
   "cell_type": "code",
   "execution_count": null,
   "id": "69597219-5240-4b51-bb24-0ac31ab285b9",
   "metadata": {},
   "outputs": [],
   "source": [
    "df = get_dataset()"
   ]
  }
 ],
 "metadata": {
  "kernelspec": {
   "display_name": "Python 3 (ipykernel)",
   "language": "python",
   "name": "python3"
  },
  "language_info": {
   "codemirror_mode": {
    "name": "ipython",
    "version": 3
   },
   "file_extension": ".py",
   "mimetype": "text/x-python",
   "name": "python",
   "nbconvert_exporter": "python",
   "pygments_lexer": "ipython3",
   "version": "3.9.7"
  }
 },
 "nbformat": 4,
 "nbformat_minor": 5
}
