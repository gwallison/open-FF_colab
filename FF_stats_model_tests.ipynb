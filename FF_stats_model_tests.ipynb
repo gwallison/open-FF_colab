{
 "cells": [
  {
   "cell_type": "code",
   "execution_count": null,
   "id": "1be18a00-8a2d-4557-89dd-440791269e37",
   "metadata": {
    "id": "1be18a00-8a2d-4557-89dd-440791269e37"
   },
   "outputs": [],
   "source": [
    "import pandas as pd\n",
    "import numpy as np\n",
    "import altair as alt\n",
    "import seaborn as sns\n",
    "import matplotlib.pyplot as plt"
   ]
  },
  {
   "cell_type": "code",
   "execution_count": null,
   "id": "15104232-1318-4c4f-bf4a-c561b889dddc",
   "metadata": {},
   "outputs": [],
   "source": [
    "# This cell downloads some support code that is used to pull together the data set.  \n",
    "!git clone https://github.com/gwallison/colab-support.git &>/dev/null;\n",
    "# now run the code that defines the routine\n",
    "%run colab-support/get_dataframe.py"
   ]
  },
  {
   "cell_type": "code",
   "execution_count": null,
   "id": "47a2413f-6463-423b-9018-d1891fac581f",
   "metadata": {},
   "outputs": [],
   "source": [
    "# get_dataset pulls together a set of CSV files from a google storage site, then merges them\n",
    "#  result: df is a dataframe with all records (though not ALL fields)\n",
    "df = get_dataset()\n",
    "\n",
    "# if you want to see what fields are in df, uncomment the following line\n",
    "# df.columns"
   ]
  },
  {
   "cell_type": "code",
   "execution_count": null,
   "id": "d281c6f7-d804-45ff-bc1d-2ec98dd529c4",
   "metadata": {},
   "outputs": [],
   "source": [
    "# Filter to a single bgCAS type\n",
    "df = df[df.bgCAS=='proprietary'].copy()"
   ]
  },
  {
   "cell_type": "code",
   "execution_count": null,
   "id": "iMIU6xrlBXvZ",
   "metadata": {
    "id": "iMIU6xrlBXvZ"
   },
   "outputs": [],
   "source": [
    "# optional filter -- change year as needed\n",
    "df = df[df.date.dt.year>=2014]\n",
    "df = df[df.calcMass<=100]"
   ]
  },
  {
   "cell_type": "code",
   "execution_count": null,
   "id": "FcVYqlpUCE2H",
   "metadata": {
    "id": "FcVYqlpUCE2H"
   },
   "outputs": [],
   "source": [
    "# create datenum column w/ days since first date\n",
    "df['datenum'] = (df['date'] - df['date'].min()).dt.days"
   ]
  },
  {
   "cell_type": "code",
   "execution_count": null,
   "id": "3EVYNwW60-4F",
   "metadata": {
    "colab": {
     "base_uri": "https://localhost:8080/"
    },
    "id": "3EVYNwW60-4F",
    "outputId": "a8731f1e-37db-4710-f0f8-c1be07215e2d"
   },
   "outputs": [
    {
     "name": "stdout",
     "output_type": "stream",
     "text": [
      "NAs: 0\n",
      "Out of 162551 records\n",
      "That means we're removing 0.0% of your records\n"
     ]
    }
   ],
   "source": [
    "# tell you how many NaNs in column and then drops those rows\n",
    "nans = df.calcMass.isna().sum()\n",
    "recs = len(df)\n",
    "print(f'NAs: {nans}')\n",
    "print(f'Out of {recs} records')\n",
    "print(f\"That means we're removing {round(nans/recs*100, 2)}% of your records\")\n",
    "df = df.dropna(subset=['calcMass'])"
   ]
  },
  {
   "cell_type": "code",
   "execution_count": null,
   "id": "qDfpvY3v2uXs",
   "metadata": {
    "colab": {
     "base_uri": "https://localhost:8080/",
     "height": 296
    },
    "id": "qDfpvY3v2uXs",
    "outputId": "f1c714f7-6646-48f0-d178-751a4d0f9452"
   },
   "outputs": [
    {
     "data": {
      "text/plain": [
       "<matplotlib.axes._subplots.AxesSubplot at 0x7f28368c3110>"
      ]
     },
     "execution_count": 103,
     "metadata": {},
     "output_type": "execute_result"
    },
    {
     "data": {
      "image/png": "[encoded data removed]",
      "text/plain": [
       "<Figure size 432x288 with 1 Axes>"
      ]
     },
     "metadata": {
      "needs_background": "light"
     },
     "output_type": "display_data"
    }
   ],
   "source": [
    "# plot relationship b/t days since start and calcMass\n",
    "sns.regplot(x = 'datenum', y = 'calcMass', data = df, scatter = False, \n",
    "            scatter_kws={\"color\": \"black\"}, line_kws={\"color\": \"red\"})"
   ]
  },
  {
   "cell_type": "code",
   "execution_count": null,
   "id": "HxFj8bdYp_wc",
   "metadata": {
    "id": "HxFj8bdYp_wc"
   },
   "outputs": [],
   "source": [
    "# perform OLS regression\n",
    "from statsmodels.api import OLS\n",
    "\n",
    "X = df.datenum\n",
    "y = df.calcMass\n",
    "\n",
    "model = OLS(X, y)\n",
    "results = model.fit()"
   ]
  },
  {
   "cell_type": "code",
   "execution_count": null,
   "id": "xPC4XLIAFot2",
   "metadata": {
    "colab": {
     "base_uri": "https://localhost:8080/"
    },
    "id": "xPC4XLIAFot2",
    "outputId": "005f823a-5937-46db-bf21-7c4ba7c8188e"
   },
   "outputs": [
    {
     "name": "stdout",
     "output_type": "stream",
     "text": [
      "                                 OLS Regression Results                                \n",
      "=======================================================================================\n",
      "Dep. Variable:                datenum   R-squared (uncentered):                   0.364\n",
      "Model:                            OLS   Adj. R-squared (uncentered):              0.364\n",
      "Method:                 Least Squares   F-statistic:                          9.297e+04\n",
      "Date:                Fri, 09 Sep 2022   Prob (F-statistic):                        0.00\n",
      "Time:                        19:40:37   Log-Likelihood:                     -1.3585e+06\n",
      "No. Observations:              162551   AIC:                                  2.717e+06\n",
      "Df Residuals:                  162550   BIC:                                  2.717e+06\n",
      "Df Model:                           1                                                  \n",
      "Covariance Type:            nonrobust                                                  \n",
      "==============================================================================\n",
      "                 coef    std err          t      P>|t|      [0.025      0.975]\n",
      "------------------------------------------------------------------------------\n",
      "calcMass      18.4466      0.060    304.918      0.000      18.328      18.565\n",
      "==============================================================================\n",
      "Omnibus:                     4146.602   Durbin-Watson:                   0.778\n",
      "Prob(Omnibus):                  0.000   Jarque-Bera (JB):             4313.017\n",
      "Skew:                           0.383   Prob(JB):                         0.00\n",
      "Kurtosis:                       2.775   Cond. No.                         1.00\n",
      "==============================================================================\n",
      "\n",
      "Notes:\n",
      "[1] R² is computed without centering (uncentered) since the model does not contain a constant.\n",
      "[2] Standard Errors assume that the covariance matrix of the errors is correctly specified.\n"
     ]
    }
   ],
   "source": [
    "print(results.summary())"
   ]
  },
  {
   "cell_type": "code",
   "execution_count": null,
   "id": "1Z5TfqBhKCq9",
   "metadata": {
    "id": "1Z5TfqBhKCq9"
   },
   "outputs": [],
   "source": []
  }
 ],
 "metadata": {
  "colab": {
   "provenance": []
  },
  "kernelspec": {
   "display_name": "Python 3 (ipykernel)",
   "language": "python",
   "name": "python3"
  },
  "language_info": {
   "codemirror_mode": {
    "name": "ipython",
    "version": 3
   },
   "file_extension": ".py",
   "mimetype": "text/x-python",
   "name": "python",
   "nbconvert_exporter": "python",
   "pygments_lexer": "ipython3",
   "version": "3.9.7"
  }
 },
 "nbformat": 4,
 "nbformat_minor": 5
}
