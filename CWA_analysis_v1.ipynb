{
 "cells": [
  {
   "cell_type": "markdown",
   "id": "54eda163-9a62-4f06-bc09-0c56bc07582a",
   "metadata": {},
   "source": [
    "# Analysis on CWA chemicals\n",
    "Just a framework to get things started.\n",
    "Version 1 - July 14, 2022\n",
    "Added on Aug 15: access to RQ levels and counts in summary table\n"
   ]
  },
  {
   "cell_type": "code",
   "execution_count": null,
   "id": "a503a90b-ad41-4b0f-97bb-3a62412aaf12",
   "metadata": {},
   "outputs": [],
   "source": [
    "# This cell downloads some support code that is used to pull together the data set.  \n",
    "!git clone https://github.com/gwallison/colab-support.git &>/dev/null;\n",
    "\n",
    "# now run the code that defines the routine\n",
    "%run colab-support/get_dataframe.py"
   ]
  },
  {
   "cell_type": "code",
   "execution_count": null,
   "id": "69597219-5240-4b51-bb24-0ac31ab285b9",
   "metadata": {},
   "outputs": [],
   "source": [
    "# get_dataset pulls together a set of CSV files from a google storage site, then merges them\n",
    "#  result: df is a dataframe with all records (though not ALL fields)\n",
    "df = get_dataset()\n",
    "\n",
    "# if you want to see what fields are in df, uncomment the following line\n",
    "# df.columns"
   ]
  },
  {
   "cell_type": "markdown",
   "id": "d2b7e906-d094-43a0-8af9-6d72147fba80",
   "metadata": {},
   "source": [
    "To get an understanding of what the various fields are in the data set, go the the [Data Dictionary](https://storage.googleapis.com/open-ff-browser/Open-FF_Data_Dictionary.html)"
   ]
  },
  {
   "cell_type": "code",
   "execution_count": null,
   "id": "5218a347-c080-41e9-9a77-6f0f152e6618",
   "metadata": {},
   "outputs": [],
   "source": [
    "# just for reference, let's see how many unique bgCAS values there are:\n",
    "print(f'Number of unique bgCAS values in df: {len(df.bgCAS.unique())}')"
   ]
  },
  {
   "cell_type": "markdown",
   "id": "386c0922-5da1-4f0d-be50-d9bb9e95553b",
   "metadata": {},
   "source": [
    "Since we are going to focus on CWA chemicals we have THREE builtin lists we can use with these flags:\n",
    "> is_on_CWA\n",
    "\n",
    "> is_on_AQ_CWA\n",
    "\n",
    "> is_on_HH_CWA\n",
    "\n",
    "We'll start with all three as a filter; and call our resulting dataframe: \"cwadf\"\n",
    "The '|' character is the OR operator.  ('&' is the AND operator)\n",
    "So, in the following code, if the bgCAS of the record is in any one of those lists (the OR), it will be in our output dataframe. "
   ]
  },
  {
   "cell_type": "code",
   "execution_count": null,
   "id": "283aa6af-48ff-4a48-908a-796756f6df6d",
   "metadata": {},
   "outputs": [],
   "source": [
    "cwadf = df[df.is_on_CWA | df.is_on_AQ_CWA | df.is_on_HH_CWA ].copy() \n",
    "print(f'Number of unique bgCAS values in cwadf: {len(cwadf.bgCAS.unique())}')"
   ]
  },
  {
   "cell_type": "markdown",
   "id": "e8fb662b-d5c2-4640-ab48-2f3a7e808c3d",
   "metadata": {},
   "source": [
    "# Summary table\n",
    "Let's summarize this new dataframe; we can do this with 'groupby'"
   ]
  },
  {
   "cell_type": "code",
   "execution_count": null,
   "id": "02446585-7592-4bf7-904f-36021f8e3f80",
   "metadata": {},
   "outputs": [],
   "source": [
    "gb1 = cwadf.groupby('bgCAS',as_index=False)[['bgIngredientName','epa_pref_name']].first()\n",
    "gb2 = cwadf.groupby('bgCAS',as_index=False)['UploadKey'].count().rename({'UploadKey':'tot_record_cnt'},axis=1)\n",
    "\n",
    "cond1 = cwadf.calcMass>0\n",
    "cond2 = cwadf.rq_lbs<=cwadf.calcMass\n",
    "# how many records have a calculable mass\n",
    "gb3 = cwadf[cond1].groupby('bgCAS',as_index=False)['UploadKey'].count().rename({'UploadKey':'calc_mass_cnt'},axis=1)\n",
    "\n",
    "# total mass\n",
    "gb4 = cwadf[cond1].groupby('bgCAS',as_index=False)['calcMass'].sum().rename({'calcMass':'total_mass'},axis=1)\n",
    "\n",
    "# biggest recorded mass\n",
    "gb5 = cwadf[cond1].groupby('bgCAS',as_index=False)['calcMass'].max().rename({'calcMass':'max_mass'},axis=1)\n",
    "\n",
    "# Reportable quantity\n",
    "gb6 = cwadf.groupby('bgCAS',as_index=False)['rq_lbs'].first().rename({'rq_lbs':'reportable_quant_(lbs)'},axis=1)\n",
    "\n",
    "# Number at or above reportable quant\n",
    "gb7 = cwadf[cond1&cond2].groupby('bgCAS',as_index=False)['UploadKey'].count().rename({'UploadKey':'num_over_RQ'},axis=1)\n"
   ]
  },
  {
   "cell_type": "code",
   "execution_count": null,
   "id": "9ef31574-f6da-4a5b-bcbf-4e40820e40f5",
   "metadata": {},
   "outputs": [],
   "source": [
    "# now we will pull them all together with merge\n",
    "\n",
    "gb = pd.merge(gb1,gb2,on='bgCAS',how ='left',validate='1:1')\n",
    "gb = pd.merge(gb,gb3,on='bgCAS',how ='left',validate='1:1')\n",
    "gb = pd.merge(gb,gb4,on='bgCAS',how ='left',validate='1:1')\n",
    "gb = pd.merge(gb,gb5,on='bgCAS',how ='left',validate='1:1')\n",
    "gb = pd.merge(gb,gb6,on='bgCAS',how ='left',validate='1:1')\n",
    "gb = pd.merge(gb,gb7,on='bgCAS',how ='left',validate='1:1')\n",
    "\n",
    "# That should do it; click on the magic wand icon to make the table sortable and searchable\n",
    "gb"
   ]
  },
  {
   "cell_type": "markdown",
   "id": "06869fec-9040-4490-b0e0-dbc83e7c177b",
   "metadata": {},
   "source": [
    "# summary of mass by year"
   ]
  },
  {
   "cell_type": "code",
   "execution_count": null,
   "id": "53a5c4b2-aabd-4f71-af02-4b7d55e456c2",
   "metadata": {},
   "outputs": [],
   "source": [
    "import matplotlib.pyplot as plt\n",
    "\n",
    "# This code is a little rough. There will be some warnings about \"more than 20 plots in memory\" that is safely ignored\n",
    "#  Also note that for big masses, there is a multiplier in the upper left of the plot: '1e6' means multiply the y-axis by 1,000,000\n",
    "def get_by_year(df,cas):\n",
    "    name = df[df.bgCAS==cas].epa_pref_name.unique().tolist()[0]\n",
    "    gb = df[df.bgCAS==cas].groupby('date')['calcMass'].sum()\n",
    "    yrly = gb.resample(\"Y\").sum()\n",
    "    yrly = yrly.reset_index(drop=False)\n",
    "    # print(yrly.head())\n",
    "    yrly['yr'] = yrly.date.dt.year\n",
    "    ax = yrly.plot.bar('yr','calcMass',title=f'{cas}: {name}')\n",
    "    plt.plot()\n",
    "\n",
    "allcas = gb.bgCAS.unique().tolist()\n",
    "for cas in allcas:\n",
    "    get_by_year(df,cas)\n",
    "\n"
   ]
  }
 ],
 "metadata": {
  "kernelspec": {
   "display_name": "Python 3 (ipykernel)",
   "language": "python",
   "name": "python3"
  },
  "language_info": {
   "codemirror_mode": {
    "name": "ipython",
    "version": 3
   },
   "file_extension": ".py",
   "mimetype": "text/x-python",
   "name": "python",
   "nbconvert_exporter": "python",
   "pygments_lexer": "ipython3",
   "version": "3.9.7"
  }
 },
 "nbformat": 4,
 "nbformat_minor": 5
}
