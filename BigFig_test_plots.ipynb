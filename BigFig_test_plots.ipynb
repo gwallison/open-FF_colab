{
  "nbformat": 4,
  "nbformat_minor": 0,
  "metadata": {
    "colab": {
      "provenance": [],
      "collapsed_sections": [],
      "include_colab_link": true
    },
    "kernelspec": {
      "name": "python3",
      "display_name": "Python 3"
    },
    "language_info": {
      "name": "python"
    }
  },
  "cells": [
    {
      "cell_type": "markdown",
      "metadata": {
        "id": "view-in-github",
        "colab_type": "text"
      },
      "source": [
        "<a href=\"https://colab.research.google.com/github/lourdesvera/open-FF_colab/blob/LV/BigFig_test_plots.ipynb\" target=\"_parent\"><img src=\"https://colab.research.google.com/assets/colab-badge.svg\" alt=\"Open In Colab\"/></a>"
      ]
    },
    {
      "cell_type": "markdown",
      "source": [
        "# Testing colors for SDWA mass/year figure\n",
        "## Instructions\n",
        "Before you run these cells, download the [data file](https://drive.google.com/file/d/102j4eaGiBgeOaW1uzZcZ-T2VEBzskvYX/view?usp=sharing) to your computer.  Save it somewhere convenient.  \n",
        "\n",
        "After that, run the next cell by clicking the ▶ button.\n",
        "\n"
      ],
      "metadata": {
        "id": "pgyow8MxVKxi"
      }
    },
    {
      "cell_type": "code",
      "execution_count": null,
      "metadata": {
        "id": "fslBEC_b3g4b"
      },
      "outputs": [],
      "source": [
        "import pandas as pd\n",
        "import numpy as np\n",
        "import matplotlib.pyplot as plt\n",
        "import matplotlib.ticker\n",
        "from pylab import gca, mpl\n",
        "import seaborn as sns; sns.set_theme()\n",
        "# from google.colab import files"
      ]
    },
    {
      "cell_type": "markdown",
      "source": [
        "Before you run the next cell:\n",
        "- click on the folder icon on the far left of the colab page.  \n",
        "- click on the upload icon.\n",
        "- select and upload the 'data_for_big_figure.csv' file that you previously downloaded. It should show up in the \"Files\" panel.\n",
        "\n",
        "Now you can run the next cell."
      ],
      "metadata": {
        "id": "fDcAHyBjUg8J"
      }
    },
    {
      "cell_type": "code",
      "source": [
        "big = pd.read_csv(\"data_for_big_figure.csv\")  \n",
        "# big.head()\n",
        "https://raw.githubusercontent.com/lourdesvera/open-FF_colab/LV/data_for_big_figure%20-%20data_for_big_figure.csv "
      ],
      "metadata": {
        "id": "Zg3M_zf74k6i"
      },
      "execution_count": null,
      "outputs": []
    },
    {
      "cell_type": "code",
      "source": [
        "# maxes = nonbtex.max().drop('date',axis=0)\n",
        "maxes = big.max().drop('date',axis=0)\n",
        "maxes = maxes.sort_values(ascending=False)\n",
        "#print(maxes)\n",
        "breaks = [2,11]\n",
        "biggest = maxes[:breaks[0]].index.tolist()\n",
        "#biggest\n",
        "middle = maxes[breaks[0]:breaks[1]].index.tolist()\n",
        "#middle\n",
        "smallest = maxes[breaks[1]:].index.tolist()\n",
        "tiny = smallest[5:]\n",
        "lump = []\n",
        "for i,row in big.iterrows():\n",
        "    accum = 0\n",
        "    for chem in tiny:\n",
        "        accum += row[chem]\n",
        "    lump.append(accum)\n",
        "big['remaining 10 \\nSDWA chemicals'] = lump\n",
        "trimmed_smallest = smallest[:5]\n",
        "trimmed_smallest.append('remaining 10 \\nSDWA chemicals')"
      ],
      "metadata": {
        "id": "Mc1BacYr6AQg"
      },
      "execution_count": null,
      "outputs": []
    },
    {
      "cell_type": "markdown",
      "source": [
        "## notes:\n",
        "The \"cmap\" variable in the plot statements is what controls the colormap of the graph.  Change it and press ▶ again to see the results.\n",
        "\n",
        "You can have a different cmap for each panel.\n",
        " \n",
        "The format of the plot below isn't identical to what we've developed so far. Ignore that - this is just for judging color schemes."
      ],
      "metadata": {
        "id": "KhnBJTnlWMn3"
      }
    },
    {
      "cell_type": "markdown",
      "source": [
        "# Using colormaps\n"
      ],
      "metadata": {
        "id": "6wSCYk49befc"
      }
    },
    {
      "cell_type": "code",
      "source": [
        "big.plot.bar('date',trimmed_smallest,stacked=True,cmap='seismic')\n",
        "plt.legend(bbox_to_anchor=(1, 1), loc='upper left', ncol=1)\n",
        "ax = gca().yaxis.set_major_formatter(mpl.ticker.StrMethodFormatter('{x:,.0f}'))\n",
        "plt.title('SDWA chemical reported masses',fontsize=14)\n",
        "plt.xticks(fontsize=14,rotation = 0);\n",
        "plt.ylabel('Mass (lbs.)',fontsize=14);\n",
        "plt.xlabel('');\n",
        "\n",
        "plt.show()\n",
        "\n",
        "big.plot.bar('date',middle,stacked=True,cmap='PuOr')\n",
        "plt.legend(bbox_to_anchor=(1, 1), loc='upper left', ncol=1)\n",
        "plt.xticks(fontsize=14,rotation = 0);\n",
        "plt.ylabel('Mass (lbs.)',fontsize=14);\n",
        "plt.xlabel('');\n",
        "ax = gca().yaxis.set_major_formatter(mpl.ticker.StrMethodFormatter('{x:,.0f}'))\n",
        "plt.show()\n",
        "\n",
        "big.plot.bar('date',biggest,stacked=True,cmap='afmhot')\n",
        "plt.legend(bbox_to_anchor=(1, 1), loc='upper left', ncol=1)\n",
        "plt.xticks(fontsize=14,rotation = 0);\n",
        "plt.ylabel('Mass (lbs.)',fontsize=14);\n",
        "plt.xlabel('');\n",
        "ax = gca().yaxis.set_major_formatter(mpl.ticker.StrMethodFormatter('{x:,.0f}'))\n",
        "plt.show()\n",
        "# "
      ],
      "metadata": {
        "id": "DGlIepxyLA5b"
      },
      "execution_count": null,
      "outputs": []
    },
    {
      "cell_type": "markdown",
      "source": [
        "# Using lists of individual colors\n",
        "\n",
        "We can do this by simply supplying a list of colors that the programs cycles through as it plots.  Below cl1, etc, has the specified color list.  See [Specifying Colors](https://matplotlib.org/stable/tutorials/colors/colors.html) for codes you can use and somewhere this is a more specific \"color picker\" tool.  I think the those codes in the form of #xxxxxxx are pretty standard.\n",
        "\n",
        "## line thickness\n",
        "change the \"linewidth\" parameter in the \"big.plot.bar\" code. "
      ],
      "metadata": {
        "id": "B6wCcCy-bTUu"
      }
    },
    {
      "cell_type": "code",
      "source": [
        "\n",
        "cl1 =['#030764', '#7BC8F6', '#FFD700', '#00FFFF', '#000000','#F97306'] # <<<<< change colors here\n",
        "\n",
        "ax = big.plot.bar('date',trimmed_smallest,stacked=True,color=cl1, linewidth=0.5)\n",
        "plt.legend(bbox_to_anchor=(1, 1), loc='upper left', ncol=1)\n",
        "ax = gca().yaxis.set_major_formatter(mpl.ticker.StrMethodFormatter('{x:,.0f}'))\n",
        "plt.title('SDWA chemical reported masses',fontsize=14)\n",
        "plt.xticks(fontsize=14,rotation = 0);\n",
        "plt.ylabel('Mass (lbs.)',fontsize=14);\n",
        "plt.xlabel('');\n",
        "\n",
        "plt.show()\n",
        "\n",
        "cl2 =['#030764', '#7BC8F6', '#FFD700', '#00FFFF', '#000000', '#F97306', \n",
        "      '#FFFFFF', '#800080', '#653700', '#E6E6FA'] # <<<<< change colors here\n",
        "\n",
        "big.plot.bar('date',middle,stacked=True,color=cl2, linewidth=0.5)\n",
        "plt.legend(bbox_to_anchor=(1, 1), loc='upper left', ncol=1)\n",
        "plt.xticks(fontsize=14,rotation = 0);\n",
        "plt.ylabel('Mass (lbs.)',fontsize=14);\n",
        "plt.xlabel('');\n",
        "ax = gca().yaxis.set_major_formatter(mpl.ticker.StrMethodFormatter('{x:,.0f}'))\n",
        "plt.show()\n",
        "\n",
        "cl3 =['#030764','#FFD700'] # <<<<< change colors here\n",
        "big.plot.bar('date',biggest,stacked=True,color=cl3, linewidth=0.5)\n",
        "plt.legend(bbox_to_anchor=(1, 1), loc='upper left', ncol=1)\n",
        "plt.xticks(fontsize=14,rotation = 0);\n",
        "plt.ylabel('Mass (lbs.)',fontsize=14);\n",
        "plt.xlabel('');\n",
        "ax = gca().yaxis.set_major_formatter(mpl.ticker.StrMethodFormatter('{x:,.0f}'))\n",
        "plt.show()\n",
        "# "
      ],
      "metadata": {
        "id": "Lk7KyRUbbM1k"
      },
      "execution_count": null,
      "outputs": []
    }
  ]
}