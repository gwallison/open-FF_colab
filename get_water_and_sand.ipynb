{
 "cells": [
  {
   "cell_type": "markdown",
   "id": "0ee7fe68-d442-4b63-b67b-87721650b92b",
   "metadata": {},
   "source": [
    "# Fetch water volume and sand mass from Open-FF\n",
    "### Version 1 - Aug 2022\n",
    "\n",
    "This notebook is used to fetch the most recent Open-FF data set, filter it if desired, and export the data.\n",
    "\n",
    "Note that FracFocus Latitude and Longitude can be in different projections; Open-FF converts them all to WGS84, and checks\n",
    "that they are in the locations indicated by the APINumber (see fields **loc_within_state** and **loc_within_county**)"
   ]
  },
  {
   "cell_type": "markdown",
   "id": "de7b9b0c-e2d5-4326-95bc-fd3895660745",
   "metadata": {},
   "source": [
    "## Step 1: Get data into Colab\n",
    "Run the cells below to import the most recent Open-FF data"
   ]
  },
  {
   "cell_type": "code",
   "execution_count": null,
   "id": "0c9b325c-96f6-431b-aef2-f3cc895882ef",
   "metadata": {},
   "outputs": [],
   "source": [
    "# This cell downloads some support code that is used to pull together the data set.  \n",
    "!git clone https://github.com/gwallison/colab-support.git &>/dev/null;\n",
    "\n",
    "# now run the code that defines the routine\n",
    "%run colab-support/get_dataframe.py"
   ]
  },
  {
   "cell_type": "code",
   "execution_count": null,
   "id": "3153934e-ae2d-4c93-8d46-7d66f99fa951",
   "metadata": {},
   "outputs": [],
   "source": [
    "# get_dataset pulls together a set of CSV files from a google storage site, then merges them\n",
    "#  result: df is a dataframe with all records (though not ALL fields)\n",
    "# By default, the data set is prefiltered to only the \"standard set\"; that is, non-duplicates.\n",
    "df = get_dataset()\n",
    "\n",
    "# if you want to see what fields are in df, uncomment the following line\n",
    "# df.columns"
   ]
  },
  {
   "cell_type": "code",
   "execution_count": null,
   "id": "f1213301-0109-4fc5-b123-09ffe9124ccc",
   "metadata": {},
   "outputs": [],
   "source": [
    "# The following code is used to extract just the water and sand data, and associated meta-data\n",
    "gb1 = df.groupby('UploadKey',as_index=False)[['TotalBaseWaterVolume','date','OperatorName','bgOperatorName',\n",
    "                                              'StateName','CountyName','APINumber','Latitude','Longitude',\n",
    "                                              'bgStateName','bgCountyName','bgLatitude','bgLongitude',\n",
    "                                              'loc_within_county','loc_within_state']].first()\n",
    "gb1['api10'] = gb1.APINumber.str[:10]\n",
    "gb1['year'] = gb1.date.dt.year\n",
    "cond = df.bgCAS=='14808-60-7'\n",
    "gb2 = df[cond].groupby('UploadKey',as_index=False)['calcMass'].sum().rename({'calcMass':'sandMass'},axis=1)\n",
    "sand_water = pd.merge(gb1,gb2,on='UploadKey',how='left')\n",
    "sand_water.drop('UploadKey',axis=1,inplace=True)\n",
    "print(f'Number of unfiltered records: {len(sand_water)}') \n",
    "# show the first few lines\n",
    "sand_water.head()"
   ]
  },
  {
   "cell_type": "markdown",
   "id": "28cbc4c9-8bf6-48a3-9d6c-34070462119d",
   "metadata": {},
   "source": [
    "## Step 2: Filter whole data, if desired\n",
    "Uncomment code lines below and edit where you want to filter, then run the cells.\n",
    "\n",
    "(to uncomment, remove the '#' at the beginning of the line)"
   ]
  },
  {
   "cell_type": "code",
   "execution_count": null,
   "id": "289bf756-b6e6-4da2-90d7-4ac5d3c2f3e7",
   "metadata": {},
   "outputs": [],
   "source": [
    "## by year\n",
    "# sand_water = sand_water[sand_water.year.isin([2021,2020])]"
   ]
  },
  {
   "cell_type": "code",
   "execution_count": null,
   "id": "ab9a7867-4b7f-4dae-8227-2b87e5623d09",
   "metadata": {},
   "outputs": [],
   "source": [
    "## by state\n",
    "## using bgStateName: all lower case\n",
    "# sand_water = sand_water[sand_water.bgStateName.isin(['ohio','west virginia'])]"
   ]
  },
  {
   "cell_type": "code",
   "execution_count": null,
   "id": "b757e044-b8ae-4145-ac32-f95ac0b37c0a",
   "metadata": {},
   "outputs": [],
   "source": [
    "## by Operator\n",
    "## using bgOperatorName: all lower case, see the Open_FF_Companies Index in the catalog\n",
    "# sand_water = sand_water[sand_water.bgOperatorName=='pioneer']"
   ]
  },
  {
   "cell_type": "code",
   "execution_count": null,
   "id": "ad24b9f7-0bc5-45fc-ae6d-449578289718",
   "metadata": {},
   "outputs": [],
   "source": [
    "## remove records that don't have water or sand\n",
    "# cond1 = sand_water.sandmass.notna()\n",
    "# cond2 = sand_water.TotalBaseWaterVolume.notna()\n",
    "# sand_water = sand_water[cond1 | cond2] # keep if either field has data\n",
    "# sand_water = sand_water[cond1 & cond2] # keep only if BOTH fields have data"
   ]
  },
  {
   "cell_type": "code",
   "execution_count": null,
   "id": "32d0494b-e473-4efc-95f0-7fef352f4f76",
   "metadata": {},
   "outputs": [],
   "source": [
    "print(f'Number of filtered records: {len(sand_water)}')"
   ]
  },
  {
   "cell_type": "markdown",
   "id": "80883b05-05c1-425c-bcf3-53d656c6ae8c",
   "metadata": {},
   "source": [
    "## Step 3: Export to a CSV file\n",
    "Once you run this cell, the output file should be available in Colab's File panel for downloading.\n",
    "\n",
    "sandmass is in pounds; TotalBaseWaterVolume is in gallons"
   ]
  },
  {
   "cell_type": "code",
   "execution_count": null,
   "id": "c98ba41a-3c7f-4afd-a93b-afa802151f3f",
   "metadata": {},
   "outputs": [],
   "source": [
    "import datetime\n",
    "today = str(datetime.datetime.now()).split()[0]\n",
    "sand_water.to_csv(f'sand_water_{today}.csv')"
   ]
  }
 ],
 "metadata": {
  "kernelspec": {
   "display_name": "Python 3 (ipykernel)",
   "language": "python",
   "name": "python3"
  },
  "language_info": {
   "codemirror_mode": {
    "name": "ipython",
    "version": 3
   },
   "file_extension": ".py",
   "mimetype": "text/x-python",
   "name": "python",
   "nbconvert_exporter": "python",
   "pygments_lexer": "ipython3",
   "version": "3.9.7"
  }
 },
 "nbformat": 4,
 "nbformat_minor": 5
}
