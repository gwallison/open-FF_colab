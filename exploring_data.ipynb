{
 "cells": [
  {
   "cell_type": "markdown",
   "id": "1f466238-ed44-4c6a-ae78-0f01525abe97",
   "metadata": {},
   "source": [
    "# Exploring data\n",
    "\n",
    "## Step 1: Upload data to Colab\n",
    "Click on the folder icon in the menu bar on the left.  Click on the Upload button and select the file to upload.  Once done, colab can use the data. "
   ]
  },
  {
   "cell_type": "code",
   "execution_count": null,
   "id": "1be18a00-8a2d-4557-89dd-440791269e37",
   "metadata": {},
   "outputs": [],
   "source": [
    "# preamble to load necessary modules\n",
    "import pandas as pd\n",
    "import numpy as np\n",
    "import altair as alt"
   ]
  },
  {
   "cell_type": "code",
   "execution_count": null,
   "id": "45e3db64-7bb9-4aee-a3d2-cea5e61edd0b",
   "metadata": {},
   "outputs": [],
   "source": [
    "file_name = 'full_proprietary.csv'  ###  <<  change this name to your file name\n",
    "df = pd.read_csv(file_name,dtype={'APINumber':'str'}, # we want pandas to treat APINumber as text not a number\n",
    "                 low_memory=False)  # this may prevent colab from choking on big files\n",
    "df.date = pd.to_datetime(df.date)\n",
    "print(f'Number of records: {len(df)}')\n",
    "df.columns  # see what column names you have to work with"
   ]
  },
  {
   "cell_type": "markdown",
   "id": "46d18c06-03c4-4f57-b914-dfc44ab0b925",
   "metadata": {},
   "source": [
    "## Step 2: Filter to a smaller set\n",
    "Use this to filter \n",
    "- by PercentHFJob or calcMass size\n",
    "- by company, \n",
    "etc"
   ]
  },
  {
   "cell_type": "code",
   "execution_count": null,
   "id": "42a60e03-f3a8-40de-92fc-cc287d29e23a",
   "metadata": {},
   "outputs": [],
   "source": [
    "# first filter\n",
    "data = df[df.PercentHFJob >= 1].copy()\n",
    "# filter more\n",
    "#data = data[data.bgStateName=='oklahoma']\n",
    "# filter even more\n",
    "#data = data[data.date.dt.year==2019]\n",
    "print(f'Number of records: {len(data)}')\n"
   ]
  },
  {
   "cell_type": "markdown",
   "id": "9ea67f60-585b-4fdf-86f3-5d6a9ea58a05",
   "metadata": {},
   "source": [
    "## Other Steps"
   ]
  },
  {
   "cell_type": "markdown",
   "id": "1e0b1832-856b-4cc5-90ff-e50869aa9743",
   "metadata": {},
   "source": [
    "## Summarizing data\n",
    "It is often helpful to summarized data.  For example, we are looking at the proprietary data which has a line for every single record in which a proprietary claim is made.  But maybe we want to know the total mass of proprietary chemicals per state.  \n",
    "\n",
    "To do this we use the pandas code \"groupby\".\n",
    "\n",
    "Code below is **optional** to perform various summaries.  Just uncomment whichever line you want to execute. "
   ]
  },
  {
   "cell_type": "code",
   "execution_count": null,
   "id": "9e22d95d-0ea3-403b-9e22-bf3c57fb0c7d",
   "metadata": {},
   "outputs": [],
   "source": [
    "# make a set with just states and total calculated mass of proprietary chemicals\n",
    "out_df = data.groupby('bgStateName',as_index=False)['calcMass'].sum()\n",
    "\n",
    "# Above the \"as_index=False\" is used to include the groupby variable(s) in the data set as a field,\n",
    "#   usually that is what we will want.\n",
    "#   The square bracket contains the variable that you want summarized.  The resulting data frame \n",
    "#     will include the summary column with that name.\n",
    "\n",
    "# make a set with states and companies and total calculated mass of proprietary chemicals\n",
    "#out_df = data.groupby(['bgStateName','bgOperator'],as_index=False)['calcMass'].sum()\n",
    "\n",
    "# make a set with mass for each disclosure - 'UploadKey' is the field that's unique for each disclosure\n",
    "# ! UploadKey is not currently in the input data set.  Let me know if you want it...\n",
    "#out_df = data.groupby('UploadKey',as_index=False)['calcMass'].sum() \n",
    "\n",
    "# make a set with the count of proprietary records by bgSupplier.   With 'count', the variable\n",
    "#   in the square bracket isn't critical - it just counts the records (but names it whatever variable\n",
    "#   you choose in the square bracket.\n",
    "#out_df = data.groupby('bgSupplier',as_index=False)['bgCAS'].count() \n",
    "\n",
    "# you can also do some basic stats with groupby\n",
    "#out_df = data.groupby('bgOperatorName',as_index=False)['calcMass'].median() \n",
    "# or\n",
    "#out_df = data.groupby('bgOperatorName',as_index=False)['calcMass'].max() \n",
    "\n",
    "\n",
    "out_df.head()"
   ]
  },
  {
   "cell_type": "markdown",
   "id": "f951c41a-2dcc-40c1-a48b-f5d3692460bf",
   "metadata": {},
   "source": [
    "## Save your data to an external file\n",
    "...  to use in, for example, Excel, a stats package, a graphing program -- whatever is useful.  Below, data are saved into CSV format, but [other formats](https://pandas.pydata.org/pandas-docs/stable/user_guide/io.html?highlight=save%20formats) are possible.  \n",
    "\n",
    "After you execute this cell, your file should show up in the Files panel of colab.  From there you can download it, send it to your Google drive, etc."
   ]
  },
  {
   "cell_type": "code",
   "execution_count": null,
   "id": "bd1af00a-5fc0-44bd-822b-c2de2ef62ada",
   "metadata": {},
   "outputs": [],
   "source": [
    "data.to_csv('my_export.csv') \n",
    "data.head() # just show the first few records of the data as well"
   ]
  },
  {
   "cell_type": "markdown",
   "id": "638cb808-4144-49a2-a728-c9f9a394c222",
   "metadata": {},
   "source": [
    "## Show major categories"
   ]
  },
  {
   "cell_type": "code",
   "execution_count": null,
   "id": "fb296488-866e-4477-a720-9ee0b2b9a687",
   "metadata": {},
   "outputs": [],
   "source": [
    "# now let's look at what TradeNames are used most (top 20)\n",
    "data.TradeName.value_counts()[:20]"
   ]
  },
  {
   "cell_type": "code",
   "execution_count": null,
   "id": "93f54e9d-6178-43c2-a87c-da562a19cd49",
   "metadata": {},
   "outputs": [],
   "source": [
    "# now let's look at what Ingredients are used most (top 20)\n",
    "data.IngredientName.value_counts()[:20]"
   ]
  },
  {
   "cell_type": "markdown",
   "id": "65149684-54eb-4e77-9968-5e40f0b7fccf",
   "metadata": {},
   "source": [
    "## Graph with interactive plots\n",
    "Note that if you hover over a point, you will see more info\n",
    "\n",
    "logmass and logperc might help spread things out"
   ]
  },
  {
   "cell_type": "code",
   "execution_count": null,
   "id": "26709652-f86e-4db0-b69d-75a958350275",
   "metadata": {},
   "outputs": [],
   "source": [
    "\n",
    "#data = data[data.date.dt.year==2021]\n",
    "data['logmass'] = np.log10(data.calcMass)\n",
    "data['logperc'] = np.log10(data.PercentHFJob)\n",
    "print(len(data))\n",
    "alt.Chart(data=data).mark_point().encode(\n",
    "    x=\"date\",\n",
    "    y=\"logperc\",\n",
    "    color='bgStateName',\n",
    "    #size='calcMass',\n",
    "    tooltip = ['APINumber','bgStateName','IngredientName','calcMass','PercentHFJob',\n",
    "              'TradeName','Purpose','bgOperatorName','bgSupplier'],\n",
    ").properties(\n",
    "    width=800,\n",
    "    height=300\n",
    ")\n"
   ]
  }
 ],
 "metadata": {
  "kernelspec": {
   "display_name": "Python 3 (ipykernel)",
   "language": "python",
   "name": "python3"
  },
  "language_info": {
   "codemirror_mode": {
    "name": "ipython",
    "version": 3
   },
   "file_extension": ".py",
   "mimetype": "text/x-python",
   "name": "python",
   "nbconvert_exporter": "python",
   "pygments_lexer": "ipython3",
   "version": "3.9.7"
  }
 },
 "nbformat": 4,
 "nbformat_minor": 5
}
