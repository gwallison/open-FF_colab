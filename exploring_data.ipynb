{
 "cells": [
  {
   "cell_type": "code",
   "execution_count": null,
   "id": "1be18a00-8a2d-4557-89dd-440791269e37",
   "metadata": {},
   "outputs": [],
   "source": [
    "import pandas as pd"
   ]
  },
  {
   "cell_type": "markdown",
   "id": "1f466238-ed44-4c6a-ae78-0f01525abe97",
   "metadata": {},
   "source": [
    "# Exploring data\n",
    "\n",
    "## Step 1: Upload data to Colab\n",
    "Click on the folder icon in the menu bar on the left.  Click on the Upload button and select the file to upload.  Once done, colab can use the data. "
   ]
  },
  {
   "cell_type": "code",
   "execution_count": null,
   "id": "45e3db64-7bb9-4aee-a3d2-cea5e61edd0b",
   "metadata": {},
   "outputs": [],
   "source": [
    "file_name = 'big_proprietary.csv'  ###  <<  change this name to your file name\n",
    "df = pd.read_csv(file_name)\n",
    "df.columns"
   ]
  },
  {
   "cell_type": "code",
   "execution_count": null,
   "id": "fb296488-866e-4477-a720-9ee0b2b9a687",
   "metadata": {},
   "outputs": [],
   "source": [
    "# now let's look at what TradeNames are used most (top 20)\n",
    "df.TradeName.value_counts()[:20]"
   ]
  },
  {
   "cell_type": "code",
   "execution_count": null,
   "id": "93f54e9d-6178-43c2-a87c-da562a19cd49",
   "metadata": {},
   "outputs": [],
   "source": [
    "# now let's look at what Ingredients are used most (top 20)\n",
    "df.IngredientName.value_counts()[:20]"
   ]
  }
 ],
 "metadata": {
  "kernelspec": {
   "display_name": "Python 3 (ipykernel)",
   "language": "python",
   "name": "python3"
  },
  "language_info": {
   "codemirror_mode": {
    "name": "ipython",
    "version": 3
   },
   "file_extension": ".py",
   "mimetype": "text/x-python",
   "name": "python",
   "nbconvert_exporter": "python",
   "pygments_lexer": "ipython3",
   "version": "3.9.7"
  }
 },
 "nbformat": 4,
 "nbformat_minor": 5
}
