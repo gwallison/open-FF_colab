{
  "cells": [
    {
      "cell_type": "markdown",
      "id": "1f466238-ed44-4c6a-ae78-0f01525abe97",
      "metadata": {
        "id": "1f466238-ed44-4c6a-ae78-0f01525abe97"
      },
      "source": [
        "# Developing the code to display disclosures in Colab\n"
      ]
    },
    {
      "cell_type": "code",
      "execution_count": null,
      "id": "0c9b325c-96f6-431b-aef2-f3cc895882ef",
      "metadata": {
        "id": "0c9b325c-96f6-431b-aef2-f3cc895882ef"
      },
      "outputs": [],
      "source": [
        "# This cell downloads some support code that is used to pull together the data set.  \n",
        "!git clone https://github.com/gwallison/colab-support.git &>/dev/null;\n",
        "\n",
        "# Geopandas is an open source library for working with geographic data using the\n",
        "#   data structures library \"pandas\" (common in Python for data processing).\n",
        "#   (https://geopandas.org/)\n",
        "!pip install geopandas  &>/dev/null;\n",
        "\n",
        "# Topojson is an open source library that lets us keep file sizes small when\n",
        "#   working with geographic data, so the Notebooks can run faster while still\n",
        "#   working with detailed shapes. (https://github.com/mattijn/topojson)\n",
        "!pip install topojson &>/dev/null;\n",
        "\n",
        "# Install rtree to enable geopandas to clip data spatially\n",
        "!pip install rtree &>/dev/null;\n",
        "\n",
        "import warnings\n",
        "warnings.filterwarnings('ignore')\n",
        "\n",
        "# now run the code that defines the routine\n",
        "# %run colab-support/get_dataframe.py\n",
        "# %run colab-support/geo_tools.py\n",
        "# %run colab-support/summarize_data.py"
      ]
    },
    {
      "cell_type": "code",
      "execution_count": null,
      "id": "3153934e-ae2d-4c93-8d46-7d66f99fa951",
      "metadata": {
        "id": "3153934e-ae2d-4c93-8d46-7d66f99fa951"
      },
      "outputs": [],
      "source": [
        "# get_dataset pulls together a set of CSV files from a google storage site, then merges them\n",
        "#  result: df is a dataframe with all records (though not ALL fields)\n",
        "df = get_dataset()\n",
        "\n",
        "upk = df.iloc[10000].UploadKey  # get a test disclosure"
      ]
    },
    {
      "cell_type": "code",
      "source": [],
      "metadata": {
        "id": "6g2U_vioo2QR"
      },
      "id": "6g2U_vioo2QR",
      "execution_count": null,
      "outputs": []
    },
    {
      "cell_type": "code",
      "source": [
        "wells_gdf = make_as_well_gdf(df)"
      ],
      "metadata": {
        "id": "sTL8CkvQKJEQ"
      },
      "id": "sTL8CkvQKJEQ",
      "execution_count": null,
      "outputs": []
    },
    {
      "cell_type": "code",
      "source": [
        "lat = 32.46825509155046; lon = -93.57297706780332\n",
        "lst = find_wells_near_point(lat,lon,wells_gdf,buffer_m=1600)\n",
        "disclosure_summary_meta(lst,df)[['APINumber','WellName','date'.split()[0],\n",
        "                                 'OperatorName','TotalBaseWaterVolume']]"
      ],
      "metadata": {
        "id": "oDGPkBZmKaz6"
      },
      "id": "oDGPkBZmKaz6",
      "execution_count": null,
      "outputs": []
    },
    {
      "cell_type": "code",
      "source": [
        "disclosure_summary_chem(lst,df)[['bgCAS','epa_pref_name','calcMass','min_year','max_year']]"
      ],
      "metadata": {
        "id": "zB9z-eo8dV2h"
      },
      "id": "zB9z-eo8dV2h",
      "execution_count": null,
      "outputs": []
    }
  ],
  "metadata": {
    "kernelspec": {
      "display_name": "Python 3 (ipykernel)",
      "language": "python",
      "name": "python3"
    },
    "language_info": {
      "codemirror_mode": {
        "name": "ipython",
        "version": 3
      },
      "file_extension": ".py",
      "mimetype": "text/x-python",
      "name": "python",
      "nbconvert_exporter": "python",
      "pygments_lexer": "ipython3",
      "version": "3.9.7"
    },
    "colab": {
      "provenance": []
    }
  },
  "nbformat": 4,
  "nbformat_minor": 5
}